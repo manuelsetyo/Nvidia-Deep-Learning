{
 "cells": [
  {
   "cell_type": "markdown",
   "metadata": {},
   "source": [
    "<img src=\"./images/DLI_Header.png\" style=\"width: 400px;\">"
   ]
  },
  {
   "cell_type": "markdown",
   "metadata": {},
   "source": [
    "# Assessment"
   ]
  },
  {
   "cell_type": "markdown",
   "metadata": {},
   "source": [
    "Congratulations on going through today's course! Hopefully, you've learned some valuable skills along the way and had fun doing it. Now it's time to put those skills to the test. In this assessment, you will train a new model that is able to recognize fresh and rotten fruit. You will need to get the model to a validation accuracy of `92%` in order to pass the assessment, though we challenge you to do even better if you can. You will have the use the skills that you learned in the previous exercises. Specifically, we suggest using some combination of transfer learning, data augmentation, and fine tuning. Once you have trained the model to be at least 92% accurate on the validation dataset, save your model, and then assess its accuracy. Let's get started! "
   ]
  },
  {
   "cell_type": "markdown",
   "metadata": {},
   "source": [
    "## The Dataset"
   ]
  },
  {
   "cell_type": "markdown",
   "metadata": {},
   "source": [
    "In this exercise, you will train a model to recognize fresh and rotten fruits. The dataset comes from [Kaggle](https://www.kaggle.com/sriramr/fruits-fresh-and-rotten-for-classification), a great place to go if you're interested in starting a project after this class. The dataset structure is in the `data/fruits` folder. There are 6 categories of fruits: fresh apples, fresh oranges, fresh bananas, rotten apples, rotten oranges, and rotten bananas. This will mean that your model will require an output layer of 6 neurons to do the categorization successfully. You'll also need to compile the model with `categorical_crossentropy`, as we have more than two categories."
   ]
  },
  {
   "cell_type": "markdown",
   "metadata": {},
   "source": [
    "<img src=\"./images/fruits.png\" style=\"width: 600px;\">"
   ]
  },
  {
   "cell_type": "markdown",
   "metadata": {},
   "source": [
    "## Load ImageNet Base Model"
   ]
  },
  {
   "cell_type": "markdown",
   "metadata": {},
   "source": [
    "We encourage you to start with a model pretrained on ImageNet. Load the model with the correct weights, set an input shape, and choose to remove the last layers of the model. Remember that images have three dimensions: a height, and width, and a number of channels. Because these pictures are in color, there will be three channels for red, green, and blue. We've filled in the input shape for you. This cannot be changed or the assessment will fail. If you need a reference for setting up the pretrained model, please take a look at [notebook 05b](05b_presidential_doggy_door.ipynb) where we implemented transfer learning."
   ]
  },
  {
   "cell_type": "code",
   "execution_count": 1,
   "metadata": {},
   "outputs": [
    {
     "name": "stdout",
     "output_type": "stream",
     "text": [
      "Downloading data from https://storage.googleapis.com/tensorflow/keras-applications/vgg16/vgg16_weights_tf_dim_ordering_tf_kernels_notop.h5\n",
      "58892288/58889256 [==============================] - 0s 0us/step\n"
     ]
    }
   ],
   "source": [
    "from tensorflow import keras\n",
    "\n",
    "base_model = keras.applications.VGG16(\n",
    "    weights='imagenet',\n",
    "    input_shape=(224, 224, 3),\n",
    "    include_top=False)"
   ]
  },
  {
   "cell_type": "markdown",
   "metadata": {},
   "source": [
    "## Freeze Base Model"
   ]
  },
  {
   "cell_type": "markdown",
   "metadata": {},
   "source": [
    "Next, we suggest freezing the base model, as done in [notebook 05b](05b_presidential_doggy_door.ipynb). This is done so that all the learning from the ImageNet dataset does not get destroyed in the initial training."
   ]
  },
  {
   "cell_type": "code",
   "execution_count": 2,
   "metadata": {},
   "outputs": [],
   "source": [
    "# Freeze base model\n",
    "base_model.trainable = False"
   ]
  },
  {
   "cell_type": "markdown",
   "metadata": {},
   "source": [
    "## Add Layers to Model"
   ]
  },
  {
   "cell_type": "markdown",
   "metadata": {},
   "source": [
    "Now it's time to add layers to the pretrained model. [Notebook 05b](05b_presidential_doggy_door.ipynb) can be used as a guide. Pay close attention to the last dense layer and make sure it has the correct number of neurons to classify the different types of fruit."
   ]
  },
  {
   "cell_type": "code",
   "execution_count": 3,
   "metadata": {},
   "outputs": [],
   "source": [
    "# Create inputs with correct shape\n",
    "inputs = keras.Input(shape=(224, 224, 3))\n",
    "\n",
    "x = base_model(inputs, training=False)\n",
    "\n",
    "# Add pooling layer or flatten layer\n",
    "x = keras.layers.GlobalAveragePooling2D()(x)\n",
    "\n",
    "# Add final dense layer\n",
    "outputs = keras.layers.Dense(6, activation = 'softmax')(x)\n",
    "\n",
    "# Combine inputs and outputs to create model\n",
    "model = keras.Model(inputs, outputs)"
   ]
  },
  {
   "cell_type": "code",
   "execution_count": 4,
   "metadata": {},
   "outputs": [
    {
     "name": "stdout",
     "output_type": "stream",
     "text": [
      "Model: \"model\"\n",
      "_________________________________________________________________\n",
      "Layer (type)                 Output Shape              Param #   \n",
      "=================================================================\n",
      "input_2 (InputLayer)         [(None, 224, 224, 3)]     0         \n",
      "_________________________________________________________________\n",
      "vgg16 (Model)                (None, 7, 7, 512)         14714688  \n",
      "_________________________________________________________________\n",
      "global_average_pooling2d (Gl (None, 512)               0         \n",
      "_________________________________________________________________\n",
      "dense (Dense)                (None, 6)                 3078      \n",
      "=================================================================\n",
      "Total params: 14,717,766\n",
      "Trainable params: 3,078\n",
      "Non-trainable params: 14,714,688\n",
      "_________________________________________________________________\n"
     ]
    }
   ],
   "source": [
    "model.summary()"
   ]
  },
  {
   "cell_type": "markdown",
   "metadata": {},
   "source": [
    "## Compile Model"
   ]
  },
  {
   "cell_type": "markdown",
   "metadata": {},
   "source": [
    "Now it's time to compile the model with loss and metrics options. Remember that we're training on a number of different categories, rather than a binary classification problem."
   ]
  },
  {
   "cell_type": "code",
   "execution_count": 5,
   "metadata": {},
   "outputs": [],
   "source": [
    "model.compile(loss = keras.losses.BinaryCrossentropy(from_logits=True) , metrics = [keras.metrics.BinaryAccuracy()])"
   ]
  },
  {
   "cell_type": "markdown",
   "metadata": {},
   "source": [
    "## Augment the Data"
   ]
  },
  {
   "cell_type": "markdown",
   "metadata": {},
   "source": [
    "If you'd like, try to augment the data to improve the dataset. Feel free to look at [notebook 04a](04a_asl_augmentation.ipynb) and [notebook 05b](05b_presidential_doggy_door.ipynb) for augmentation examples. There is also documentation for the [Keras ImageDataGenerator class](https://keras.io/api/preprocessing/image/#imagedatagenerator-class). This step is optional, but it may be helpful to get to 92% accuracy."
   ]
  },
  {
   "cell_type": "code",
   "execution_count": 7,
   "metadata": {},
   "outputs": [],
   "source": [
    "from tensorflow.keras.preprocessing.image import ImageDataGenerator\n",
    "\n",
    "datagen = ImageDataGenerator(\n",
    "        samplewise_center=True,\n",
    "        rotation_range=10,\n",
    "        zoom_range = 0.1,\n",
    "        width_shift_range=0.1,\n",
    "        height_shift_range=0.1,\n",
    "        horizontal_flip=True,\n",
    "        vertical_flip=False)"
   ]
  },
  {
   "cell_type": "markdown",
   "metadata": {},
   "source": [
    "## Load Dataset"
   ]
  },
  {
   "cell_type": "markdown",
   "metadata": {},
   "source": [
    "Now it's time to load the train and validation datasets. Pick the right folders, as well as the right `target_size` of the images (it needs to match the height and width input of the model you've created). If you'd like a reference, you can check out [notebook 05b](05b_presidential_doggy_door.ipynb)."
   ]
  },
  {
   "cell_type": "code",
   "execution_count": 8,
   "metadata": {},
   "outputs": [
    {
     "name": "stdout",
     "output_type": "stream",
     "text": [
      "Found 1182 images belonging to 6 classes.\n",
      "Found 1182 images belonging to 6 classes.\n"
     ]
    }
   ],
   "source": [
    "# load and iterate training dataset\n",
    "train_it = datagen.flow_from_directory('data/fruits/train', \n",
    "                                       target_size=(224, 224), \n",
    "                                       color_mode='rgb', \n",
    "                                       class_mode=\"categorical\")\n",
    "# load and iterate validation dataset\n",
    "valid_it = datagen.flow_from_directory('data/fruits/train', \n",
    "                                      target_size=(224, 224), \n",
    "                                      color_mode='rgb', \n",
    "                                      class_mode=\"categorical\")"
   ]
  },
  {
   "cell_type": "markdown",
   "metadata": {},
   "source": [
    "## Train the Model"
   ]
  },
  {
   "cell_type": "markdown",
   "metadata": {},
   "source": [
    "Time to train the model! Pass the `train` and `valid` iterators into the `fit` function, as well as setting your desired number of epochs."
   ]
  },
  {
   "cell_type": "code",
   "execution_count": 9,
   "metadata": {},
   "outputs": [
    {
     "name": "stdout",
     "output_type": "stream",
     "text": [
      "Epoch 1/20\n",
      "37/36 [==============================] - 38s 1s/step - loss: 0.7084 - binary_accuracy: 0.8445 - val_loss: 0.6892 - val_binary_accuracy: 0.8823\n",
      "Epoch 2/20\n",
      "37/36 [==============================] - 30s 809ms/step - loss: 0.6872 - binary_accuracy: 0.8854 - val_loss: 0.6843 - val_binary_accuracy: 0.8919\n",
      "Epoch 3/20\n",
      "37/36 [==============================] - 30s 818ms/step - loss: 0.6837 - binary_accuracy: 0.8926 - val_loss: 0.6816 - val_binary_accuracy: 0.8975\n",
      "Epoch 4/20\n",
      "37/36 [==============================] - 30s 805ms/step - loss: 0.6821 - binary_accuracy: 0.8957 - val_loss: 0.6820 - val_binary_accuracy: 0.8951\n",
      "Epoch 5/20\n",
      "37/36 [==============================] - 30s 812ms/step - loss: 0.6815 - binary_accuracy: 0.8968 - val_loss: 0.6808 - val_binary_accuracy: 0.8978\n",
      "Epoch 6/20\n",
      "37/36 [==============================] - 30s 809ms/step - loss: 0.6808 - binary_accuracy: 0.8973 - val_loss: 0.6807 - val_binary_accuracy: 0.8976\n",
      "Epoch 7/20\n",
      "37/36 [==============================] - 30s 816ms/step - loss: 0.6808 - binary_accuracy: 0.8972 - val_loss: 0.6788 - val_binary_accuracy: 0.9007\n",
      "Epoch 8/20\n",
      "37/36 [==============================] - 30s 814ms/step - loss: 0.6686 - binary_accuracy: 0.9240 - val_loss: 0.6640 - val_binary_accuracy: 0.9313\n",
      "Epoch 9/20\n",
      "37/36 [==============================] - 30s 811ms/step - loss: 0.6634 - binary_accuracy: 0.9325 - val_loss: 0.6598 - val_binary_accuracy: 0.9423\n",
      "Epoch 10/20\n",
      "37/36 [==============================] - 30s 815ms/step - loss: 0.6601 - binary_accuracy: 0.9408 - val_loss: 0.6588 - val_binary_accuracy: 0.9439\n",
      "Epoch 11/20\n",
      "37/36 [==============================] - 30s 815ms/step - loss: 0.6587 - binary_accuracy: 0.9430 - val_loss: 0.6579 - val_binary_accuracy: 0.9459\n",
      "Epoch 12/20\n",
      "37/36 [==============================] - 30s 811ms/step - loss: 0.6589 - binary_accuracy: 0.9420 - val_loss: 0.6567 - val_binary_accuracy: 0.9464\n",
      "Epoch 13/20\n",
      "37/36 [==============================] - 30s 822ms/step - loss: 0.6575 - binary_accuracy: 0.9467 - val_loss: 0.6601 - val_binary_accuracy: 0.9389\n",
      "Epoch 14/20\n",
      "37/36 [==============================] - 30s 810ms/step - loss: 0.6570 - binary_accuracy: 0.9463 - val_loss: 0.6546 - val_binary_accuracy: 0.9514\n",
      "Epoch 15/20\n",
      "37/36 [==============================] - 30s 814ms/step - loss: 0.6569 - binary_accuracy: 0.9464 - val_loss: 0.6564 - val_binary_accuracy: 0.9471\n",
      "Epoch 16/20\n",
      "37/36 [==============================] - 30s 810ms/step - loss: 0.6567 - binary_accuracy: 0.9468 - val_loss: 0.6560 - val_binary_accuracy: 0.9484\n",
      "Epoch 17/20\n",
      "37/36 [==============================] - 30s 819ms/step - loss: 0.6560 - binary_accuracy: 0.9484 - val_loss: 0.6546 - val_binary_accuracy: 0.9505\n",
      "Epoch 18/20\n",
      "37/36 [==============================] - 30s 821ms/step - loss: 0.6558 - binary_accuracy: 0.9488 - val_loss: 0.6555 - val_binary_accuracy: 0.9497\n",
      "Epoch 19/20\n",
      "37/36 [==============================] - 30s 812ms/step - loss: 0.6560 - binary_accuracy: 0.9483 - val_loss: 0.6574 - val_binary_accuracy: 0.9457\n",
      "Epoch 20/20\n",
      "37/36 [==============================] - 30s 816ms/step - loss: 0.6560 - binary_accuracy: 0.9478 - val_loss: 0.6567 - val_binary_accuracy: 0.9467\n"
     ]
    },
    {
     "data": {
      "text/plain": [
       "<tensorflow.python.keras.callbacks.History at 0x7f44880334e0>"
      ]
     },
     "execution_count": 9,
     "metadata": {},
     "output_type": "execute_result"
    }
   ],
   "source": [
    "model.fit(train_it,\n",
    "          validation_data=valid_it,\n",
    "          steps_per_epoch=train_it.samples/train_it.batch_size,\n",
    "          validation_steps=valid_it.samples/valid_it.batch_size,\n",
    "          epochs=20)"
   ]
  },
  {
   "cell_type": "markdown",
   "metadata": {},
   "source": [
    "## Unfreeze Model for Fine Tuning"
   ]
  },
  {
   "cell_type": "markdown",
   "metadata": {},
   "source": [
    "If you have reached 92% validation accuracy already, this next step is optional. If not, we suggest fine tuning the model with a very low learning rate."
   ]
  },
  {
   "cell_type": "code",
   "execution_count": 14,
   "metadata": {},
   "outputs": [],
   "source": [
    "# Unfreeze the base model\n",
    "base_model.trainable = True\n",
    "\n",
    "# Compile the model with a low learning rate\n",
    "model.compile(optimizer=keras.optimizers.RMSprop(learning_rate = .00001),\n",
    "              loss = keras.losses.BinaryCrossentropy(from_logits=True) , metrics = [keras.metrics.BinaryAccuracy()])"
   ]
  },
  {
   "cell_type": "code",
   "execution_count": 15,
   "metadata": {},
   "outputs": [
    {
     "name": "stdout",
     "output_type": "stream",
     "text": [
      "Epoch 1/10\n",
      "37/36 [==============================] - 44s 1s/step - loss: 0.6578 - binary_accuracy: 0.9439 - val_loss: 0.6554 - val_binary_accuracy: 0.9487\n",
      "Epoch 2/10\n",
      "37/36 [==============================] - 31s 843ms/step - loss: 0.6551 - binary_accuracy: 0.9488 - val_loss: 0.6551 - val_binary_accuracy: 0.9491\n",
      "Epoch 3/10\n",
      "37/36 [==============================] - 31s 837ms/step - loss: 0.6569 - binary_accuracy: 0.9460 - val_loss: 0.6540 - val_binary_accuracy: 0.9512\n",
      "Epoch 4/10\n",
      "37/36 [==============================] - 31s 840ms/step - loss: 0.6550 - binary_accuracy: 0.9494 - val_loss: 0.6535 - val_binary_accuracy: 0.9526\n",
      "Epoch 5/10\n",
      "37/36 [==============================] - 31s 846ms/step - loss: 0.6556 - binary_accuracy: 0.9484 - val_loss: 0.6563 - val_binary_accuracy: 0.9466\n",
      "Epoch 6/10\n",
      "37/36 [==============================] - 31s 843ms/step - loss: 0.6544 - binary_accuracy: 0.9504 - val_loss: 0.6541 - val_binary_accuracy: 0.9521\n",
      "Epoch 7/10\n",
      "37/36 [==============================] - 31s 833ms/step - loss: 0.6546 - binary_accuracy: 0.9515 - val_loss: 0.6539 - val_binary_accuracy: 0.9528\n",
      "Epoch 8/10\n",
      "37/36 [==============================] - 31s 840ms/step - loss: 0.6554 - binary_accuracy: 0.9508 - val_loss: 0.6536 - val_binary_accuracy: 0.9522\n",
      "Epoch 9/10\n",
      "37/36 [==============================] - 31s 835ms/step - loss: 0.6529 - binary_accuracy: 0.9546 - val_loss: 0.6561 - val_binary_accuracy: 0.9494\n",
      "Epoch 10/10\n",
      "37/36 [==============================] - 31s 850ms/step - loss: 0.6520 - binary_accuracy: 0.9590 - val_loss: 0.6542 - val_binary_accuracy: 0.9553\n"
     ]
    },
    {
     "data": {
      "text/plain": [
       "<tensorflow.python.keras.callbacks.History at 0x7f45149575c0>"
      ]
     },
     "execution_count": 15,
     "metadata": {},
     "output_type": "execute_result"
    }
   ],
   "source": [
    "model.fit(train_it,\n",
    "          validation_data=train_it,\n",
    "          steps_per_epoch=train_it.samples/train_it.batch_size,\n",
    "          validation_steps=valid_it.samples/valid_it.batch_size,\n",
    "          epochs=10)"
   ]
  },
  {
   "cell_type": "markdown",
   "metadata": {},
   "source": [
    "## Evaluate the Model"
   ]
  },
  {
   "cell_type": "markdown",
   "metadata": {},
   "source": [
    "Hopefully, you now have a model that has a validation accuracy of 92% or higher. If not, you may want to go back and either run more epochs of training, or adjust your data augmentation. \n",
    "\n",
    "Once you are satisfied with the validation accuracy, evaluate the model by executing the following cell. The evaluate function will return a tuple, where the first value is your loss, and the second value is your accuracy. To pass, the model will need have an accuracy value of `92% or higher`. "
   ]
  },
  {
   "cell_type": "code",
   "execution_count": 16,
   "metadata": {},
   "outputs": [
    {
     "name": "stdout",
     "output_type": "stream",
     "text": [
      "37/36 [==============================] - 15s 395ms/step - loss: 0.6538 - binary_accuracy: 0.9550\n"
     ]
    },
    {
     "data": {
      "text/plain": [
       "[0.6537933945655823, 0.9550197720527649]"
      ]
     },
     "execution_count": 16,
     "metadata": {},
     "output_type": "execute_result"
    }
   ],
   "source": [
    "model.evaluate(valid_it, steps=valid_it.samples/valid_it.batch_size)"
   ]
  },
  {
   "cell_type": "markdown",
   "metadata": {},
   "source": [
    "## Run the Assessment"
   ]
  },
  {
   "cell_type": "markdown",
   "metadata": {},
   "source": [
    "To assess your model run the following two cells.\n",
    "\n",
    "**NOTE:** `run_assessment` assumes your model is named `model` and your validation data iterator is called `valid_it`. If for any reason you have modified these variable names, please update the names of the arguments passed to `run_assessment`."
   ]
  },
  {
   "cell_type": "code",
   "execution_count": 17,
   "metadata": {},
   "outputs": [],
   "source": [
    "from run_assessment import run_assessment"
   ]
  },
  {
   "cell_type": "code",
   "execution_count": 18,
   "metadata": {},
   "outputs": [
    {
     "name": "stdout",
     "output_type": "stream",
     "text": [
      "Evaluating model 5 times to obtain average accuracy...\n",
      "\n",
      "37/36 [==============================] - 14s 391ms/step - loss: 0.6528 - binary_accuracy: 0.9583\n",
      "37/36 [==============================] - 14s 391ms/step - loss: 0.6524 - binary_accuracy: 0.9585\n",
      "37/36 [==============================] - 15s 395ms/step - loss: 0.6547 - binary_accuracy: 0.9546\n",
      "37/36 [==============================] - 15s 394ms/step - loss: 0.6531 - binary_accuracy: 0.9576\n",
      "37/36 [==============================] - 15s 392ms/step - loss: 0.6524 - binary_accuracy: 0.9584\n",
      "\n",
      "Accuracy required to pass the assessment is 0.92 or greater.\n",
      "Your average accuracy is 0.9575.\n",
      "\n",
      "Congratulations! You passed the assessment!\n",
      "See instructions below to generate a certificate.\n"
     ]
    }
   ],
   "source": [
    "run_assessment(model, valid_it)"
   ]
  },
  {
   "cell_type": "markdown",
   "metadata": {},
   "source": [
    "## Generate a Certificate"
   ]
  },
  {
   "cell_type": "markdown",
   "metadata": {},
   "source": [
    "If you passed the assessment, please return to the course page (shown below) and click the \"ASSESS TASK\" button, which will generate your certificate for the course."
   ]
  },
  {
   "cell_type": "markdown",
   "metadata": {},
   "source": [
    "<img src=\"./images/assess_task.png\" style=\"width: 800px;\">"
   ]
  }
 ],
 "metadata": {
  "kernelspec": {
   "display_name": "Python 3",
   "language": "python",
   "name": "python3"
  },
  "language_info": {
   "codemirror_mode": {
    "name": "ipython",
    "version": 3
   },
   "file_extension": ".py",
   "mimetype": "text/x-python",
   "name": "python",
   "nbconvert_exporter": "python",
   "pygments_lexer": "ipython3",
   "version": "3.6.9"
  }
 },
 "nbformat": 4,
 "nbformat_minor": 4
}
